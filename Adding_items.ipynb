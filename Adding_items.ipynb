{
  "nbformat": 4,
  "nbformat_minor": 0,
  "metadata": {
    "colab": {
      "name": "IMS.ipynb",
      "provenance": [],
      "collapsed_sections": []
    },
    "kernelspec": {
      "name": "python3",
      "display_name": "Python 3"
    },
    "language_info": {
      "name": "python"
    }
  },
  "cells": [
    {
      "cell_type": "markdown",
      "metadata": {
        "id": "bJBW7Gi3CZcY"
      },
      "source": [
        "##Inventory Management System"
      ]
    },
    {
      "cell_type": "code",
      "metadata": {
        "colab": {
          "base_uri": "https://localhost:8080/"
        },
        "id": "1nB70WazCc0I",
        "outputId": "1835fd0e-49f3-4d9a-c070-192be115d9a1"
      },
      "source": [
        "print('Welcome to Inventory Management System')\n",
        "print('Adding an item to the inventory!!')"
      ],
      "execution_count": 1,
      "outputs": [
        {
          "output_type": "stream",
          "name": "stdout",
          "text": [
            "Welcome to Inventory Management System\n",
            "Adding an item to the inventory!!\n"
          ]
        }
      ]
    },
    {
      "cell_type": "markdown",
      "metadata": {
        "id": "SQKYfwQ4oa7m"
      },
      "source": [
        "##Adding an item to the Inventory"
      ]
    },
    {
      "cell_type": "code",
      "metadata": {
        "id": "mlTrDkDvC9tc"
      },
      "source": [
        "#Loading the Record.json file\n",
        "\n",
        "import json\n",
        "fd=open('record.json','r')\n",
        "r=fd.read()\n",
        "fd.close()"
      ],
      "execution_count": 2,
      "outputs": []
    },
    {
      "cell_type": "code",
      "metadata": {
        "id": "byg1cUnRDTLZ",
        "colab": {
          "base_uri": "https://localhost:8080/"
        },
        "outputId": "a8519f5b-41b8-46d5-d7a6-69b2116cca35"
      },
      "source": [
        "records=json.loads(r)\n",
        "records"
      ],
      "execution_count": 3,
      "outputs": [
        {
          "output_type": "execute_result",
          "data": {
            "text/plain": [
              "{'1001': {'name': 'Choco Cake', 'pr': 100, 'qn': 34},\n",
              " '1002': {'name': 'Milk Cake', 'pr': 800, 'qn': 100},\n",
              " '1003': {'name': 'Drink', 'pr': 85, 'qn': 100},\n",
              " '1004': {'name': 'Candy', 'pr': 5, 'qn': 1000},\n",
              " '1005': {'name': 'Pen', 'pr': 20, 'qn': 100},\n",
              " '1006': {'name': 'Phone', 'pr': 50000, 'qn': 10},\n",
              " '1007': {'name': 'Mic', 'pr': 1500, 'qn': 0},\n",
              " '1008': {'name': 'Case', 'pr': 599, 'qn': 5},\n",
              " '1009': {'name': 'Keyboard', 'pr': 1999, 'qn': 10},\n",
              " '1010': {'name': 'Biscuit', 'pr': 100, 'qn': 50},\n",
              " '1011': {'name': 'Laptop', 'pr': 2000, 'qn': 100},\n",
              " '1012': {'name': 'Mouse', 'pr': 750, 'qn': 150},\n",
              " '1013': {'name': 'Pencil', 'pr': 10, 'qn': 50},\n",
              " '1014': {'name': 'Tomato Ketchup', 'pr': 250, 'qn': 50},\n",
              " '1015': {'name': 'Water Bottle', 'pr': 560, 'qn': 100},\n",
              " '1016': {'name': 'Pasta', 'pr': 60, 'qn': 200},\n",
              " '1017': {'name': 'Cheese', 'pr': 40, 'qn': 50},\n",
              " '1018': {'name': 'Jam', 'pr': 57, 'qn': 100},\n",
              " '1019': {'name': 'Butter', 'pr': 192, 'qn': 50},\n",
              " '1020': {'name': 'Nacho Chips', 'pr': 70, 'qn': 350},\n",
              " '1021': {'name': 'Potato Chips', 'pr': 5, 'qn': 50},\n",
              " '1022': {'name': 'Chocolate Syrup', 'pr': 50, 'qn': 100},\n",
              " '1023': {'name': 'Mayonnaise ', 'pr': 30, 'qn': 50},\n",
              " '1024': {'name': 'Bread', 'pr': 25, 'qn': 200},\n",
              " '1025': {'name': 'Marker', 'pr': 15, 'qn': 200},\n",
              " '1026': {'name': 'Book', 'pr': 70, 'qn': 250},\n",
              " '1027': {'name': 'Lunch Box', 'pr': 25, 'qn': 50},\n",
              " '1028': {'name': 'Charger', 'pr': 35, 'qn': 100},\n",
              " '1029': {'name': 'Head Phone', 'pr': 100, 'qn': 150},\n",
              " '1030': {'name': 'Paper Bunch', 'pr': 75, 'qn': 500},\n",
              " '1031': {'name': 'Camera', 'pr': 1500, 'qn': 50},\n",
              " '1032': {'name': 'Shoes', 'pr': 150, 'qn': 200},\n",
              " '1033': {'name': 'Sandals', 'pr': 250, 'qn': 150},\n",
              " '1034': {'name': 'T-Shirt', 'pr': 100, 'qn': 100},\n",
              " '1035': {'name': 'Jeans', 'pr': 2000, 'qn': 250}}"
            ]
          },
          "metadata": {},
          "execution_count": 3
        }
      ]
    },
    {
      "cell_type": "code",
      "metadata": {
        "colab": {
          "base_uri": "https://localhost:8080/"
        },
        "id": "yyDds47IDXCG",
        "outputId": "f3b71bab-d887-4496-9fad-908326db05c0"
      },
      "source": [
        "import time\n",
        "import random\n",
        "\n",
        "\n",
        "print('Add an item to the inventory!')\n",
        "add_item=int(input('Enter the number of items you want to add in the inventory:'))\n",
        "for i in range(1,add_item+1):\n",
        "  prod_id=str(input('Enter the product id:'))\n",
        "      \n",
        "\n",
        "  if (prod_id in records.keys()):\n",
        "    print(records[prod_id])\n",
        "    prod_qn=int(input('Enter the quantity:'))\n",
        "    records[prod_id]['qn']=records[prod_id]['qn']+prod_qn\n",
        "      \n",
        "  else:\n",
        "    name=str(input('Enter the product name:'))\n",
        "    qn=int(input('Enter the quantity:'))\n",
        "    pr=int(input('Enter the price:'))\n",
        "    records[prod_id]={'name':name,'qn':qn,'pr':pr}\n",
        "\n",
        "  #Updating the inventory after adding items\n",
        "  js=json.dumps(records)\n",
        "  fd=open('record.json','w')\n",
        "  fd.write(js)\n",
        "  fd.close()\n",
        " "
      ],
      "execution_count": 8,
      "outputs": [
        {
          "name": "stdout",
          "output_type": "stream",
          "text": [
            "Add an item to the inventory!\n",
            "Enter the number of items you want to add in the inventory:1\n",
            "Enter the product id:1007\n",
            "{'name': 'Mic', 'qn': 50, 'pr': 1500}\n",
            "Enter the quantity:250\n"
          ]
        }
      ]
    },
    {
      "cell_type": "code",
      "metadata": {
        "colab": {
          "base_uri": "https://localhost:8080/"
        },
        "id": "odv3Z9GuOTHw",
        "outputId": "d954f3ab-6447-4a55-acf6-1ad473a73435"
      },
      "source": [
        "records"
      ],
      "execution_count": 9,
      "outputs": [
        {
          "output_type": "execute_result",
          "data": {
            "text/plain": [
              "{'1001': {'name': 'Choco Cake', 'pr': 100, 'qn': 34},\n",
              " '1002': {'name': 'Milk Cake', 'pr': 800, 'qn': 100},\n",
              " '1003': {'name': 'Drink', 'pr': 85, 'qn': 100},\n",
              " '1004': {'name': 'Candy', 'pr': 5, 'qn': 1000},\n",
              " '1005': {'name': 'Pen', 'pr': 20, 'qn': 100},\n",
              " '1006': {'name': 'Phone', 'pr': 50000, 'qn': 10},\n",
              " '1007': {'name': 'Mic', 'pr': 1500, 'qn': 300},\n",
              " '1008': {'name': 'Case', 'pr': 599, 'qn': 5},\n",
              " '1009': {'name': 'Keyboard', 'pr': 1999, 'qn': 10},\n",
              " '1010': {'name': 'Biscuit', 'pr': 100, 'qn': 50},\n",
              " '1011': {'name': 'Laptop', 'pr': 2000, 'qn': 100},\n",
              " '1012': {'name': 'Mouse', 'pr': 750, 'qn': 150},\n",
              " '1013': {'name': 'Pencil', 'pr': 10, 'qn': 50},\n",
              " '1014': {'name': 'Tomato Ketchup', 'pr': 250, 'qn': 50},\n",
              " '1015': {'name': 'Water Bottle', 'pr': 560, 'qn': 100},\n",
              " '1016': {'name': 'Pasta', 'pr': 60, 'qn': 200},\n",
              " '1017': {'name': 'Cheese', 'pr': 40, 'qn': 50},\n",
              " '1018': {'name': 'Jam', 'pr': 57, 'qn': 100},\n",
              " '1019': {'name': 'Butter', 'pr': 192, 'qn': 50},\n",
              " '1020': {'name': 'Nacho Chips', 'pr': 70, 'qn': 350},\n",
              " '1021': {'name': 'Potato Chips', 'pr': 5, 'qn': 50},\n",
              " '1022': {'name': 'Chocolate Syrup', 'pr': 50, 'qn': 100},\n",
              " '1023': {'name': 'Mayonnaise ', 'pr': 30, 'qn': 50},\n",
              " '1024': {'name': 'Bread', 'pr': 25, 'qn': 200},\n",
              " '1025': {'name': 'Marker', 'pr': 15, 'qn': 200},\n",
              " '1026': {'name': 'Book', 'pr': 70, 'qn': 250},\n",
              " '1027': {'name': 'Lunch Box', 'pr': 25, 'qn': 50},\n",
              " '1028': {'name': 'Charger', 'pr': 35, 'qn': 100},\n",
              " '1029': {'name': 'Head Phone', 'pr': 100, 'qn': 150},\n",
              " '1030': {'name': 'Paper Bunch', 'pr': 75, 'qn': 500},\n",
              " '1031': {'name': 'Camera', 'pr': 1500, 'qn': 50},\n",
              " '1032': {'name': 'Shoes', 'pr': 150, 'qn': 200},\n",
              " '1033': {'name': 'Sandals', 'pr': 250, 'qn': 150},\n",
              " '1034': {'name': 'T-Shirt', 'pr': 100, 'qn': 100},\n",
              " '1035': {'name': 'Jeans', 'pr': 2000, 'qn': 250},\n",
              " '1036': {'name': 'Cheese Cake', 'pr': 100, 'qn': 50}}"
            ]
          },
          "metadata": {},
          "execution_count": 9
        }
      ]
    },
    {
      "cell_type": "code",
      "metadata": {
        "id": "bDktRLXrouHe"
      },
      "source": [
        ""
      ],
      "execution_count": null,
      "outputs": []
    }
  ]
}