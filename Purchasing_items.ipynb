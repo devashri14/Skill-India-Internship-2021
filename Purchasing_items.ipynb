{
  "nbformat": 4,
  "nbformat_minor": 0,
  "metadata": {
    "colab": {
      "name": "Purchasing_items.ipynb",
      "provenance": [],
      "collapsed_sections": []
    },
    "kernelspec": {
      "name": "python3",
      "display_name": "Python 3"
    },
    "language_info": {
      "name": "python"
    }
  },
  "cells": [
    {
      "cell_type": "markdown",
      "metadata": {
        "id": "_--Ik0SqLDmS"
      },
      "source": [
        "##Purchasing Items from the inventory"
      ]
    },
    {
      "cell_type": "code",
      "metadata": {
        "id": "CN_PaoucLGyS"
      },
      "source": [
        "import json\n",
        "\n",
        "fd=open('record.json','r')\n",
        "r=fd.read()\n",
        "fd.close()\n",
        "records=json.loads(r)"
      ],
      "execution_count": null,
      "outputs": []
    },
    {
      "cell_type": "code",
      "metadata": {
        "colab": {
          "base_uri": "https://localhost:8080/"
        },
        "id": "19eLnY_qNxb-",
        "outputId": "c66763c9-4936-48ab-9d07-cc492ee2abeb"
      },
      "source": [
        "records"
      ],
      "execution_count": null,
      "outputs": [
        {
          "output_type": "execute_result",
          "data": {
            "text/plain": [
              "{'1001': {'name': 'Choco Cake', 'pr': 100, 'qn': 34},\n",
              " '1002': {'name': 'Milk Cake', 'pr': 800, 'qn': 100},\n",
              " '1003': {'name': 'Drink', 'pr': 85, 'qn': 100},\n",
              " '1004': {'name': 'Candy', 'pr': 5, 'qn': 1000},\n",
              " '1005': {'name': 'Pen', 'pr': 20, 'qn': 100},\n",
              " '1006': {'name': 'Phone', 'pr': 50000, 'qn': 10},\n",
              " '1007': {'name': 'Mic', 'pr': 1500, 'qn': 0},\n",
              " '1008': {'name': 'Case', 'pr': 599, 'qn': 5},\n",
              " '1009': {'name': 'Keyboard', 'pr': 1999, 'qn': 10},\n",
              " '1010': {'name': 'Biscuit', 'pr': 100, 'qn': 50},\n",
              " '1011': {'name': 'Laptop', 'pr': 2000, 'qn': 100},\n",
              " '1012': {'name': 'Mouse', 'pr': 750, 'qn': 150},\n",
              " '1013': {'name': 'Pencil', 'pr': 10, 'qn': 50},\n",
              " '1014': {'name': 'Tomato Ketchup', 'pr': 250, 'qn': 50},\n",
              " '1015': {'name': 'Water Bottle', 'pr': 560, 'qn': 100},\n",
              " '1016': {'name': 'Pasta', 'pr': 60, 'qn': 200},\n",
              " '1017': {'name': 'Cheese', 'pr': 40, 'qn': 50},\n",
              " '1018': {'name': 'Jam', 'pr': 57, 'qn': 100},\n",
              " '1019': {'name': 'Butter', 'pr': 192, 'qn': 50},\n",
              " '1020': {'name': 'Nacho Chips', 'pr': 70, 'qn': 350},\n",
              " '1021': {'name': 'Potato Chips', 'pr': 5, 'qn': 50},\n",
              " '1022': {'name': 'Chocolate Syrup', 'pr': 50, 'qn': 100},\n",
              " '1023': {'name': 'Mayonnaise ', 'pr': 30, 'qn': 50},\n",
              " '1024': {'name': 'Bread', 'pr': 25, 'qn': 200},\n",
              " '1025': {'name': 'Marker', 'pr': 15, 'qn': 200},\n",
              " '1026': {'name': 'Book', 'pr': 70, 'qn': 250},\n",
              " '1027': {'name': 'Lunch Box', 'pr': 25, 'qn': 50},\n",
              " '1028': {'name': 'Charger', 'pr': 35, 'qn': 100},\n",
              " '1029': {'name': 'Head Phone', 'pr': 100, 'qn': 150},\n",
              " '1030': {'name': 'Paper Bunch', 'pr': 75, 'qn': 500},\n",
              " '1031': {'name': 'Camera', 'pr': 1500, 'qn': 50},\n",
              " '1032': {'name': 'Shoes', 'pr': 150, 'qn': 200},\n",
              " '1033': {'name': 'Sandals', 'pr': 250, 'qn': 150},\n",
              " '1034': {'name': 'T-Shirt', 'pr': 100, 'qn': 100},\n",
              " '1035': {'name': 'Jeans', 'pr': 2000, 'qn': 250}}"
            ]
          },
          "metadata": {},
          "execution_count": 5
        }
      ]
    },
    {
      "cell_type": "code",
      "metadata": {
        "colab": {
          "base_uri": "https://localhost:8080/"
        },
        "id": "YmIqTDQiNJEI",
        "outputId": "23e34ab6-b4b9-4d17-b887-c0c71f8c6f81"
      },
      "source": [
        "import time\n",
        "import random\n",
        "\n",
        "print('Purchasing an item from the inventory!') \n",
        "print('What do you want to buy?')\n",
        "print(records)\n",
        "sales={}\n",
        "n=int(input('How many items you want to buy?'))\n",
        "for i in range(1,n+1):\n",
        "\n",
        "  pur_prod_id=str(input('Enter the product id:'))\n",
        "  pur_qn=int(input('Enter the quantity:'))\n",
        "  if (pur_qn > records[pur_prod_id]['qn']):\n",
        "    print('Sorry not enough stock!!')\n",
        "    exit(0)\n",
        "  else: \n",
        "    records[pur_prod_id]['qn']= records[pur_prod_id]['qn']-pur_qn\n",
        "          \n",
        "    print('---Generating Bill---')\n",
        "    tm=time.ctime()\n",
        "    trans_id=random.randint(100,200)\n",
        "    print('Product:',records[pur_prod_id]['name'])\n",
        "    print('Product ID:',pur_prod_id)\n",
        "    print('Price:',records[pur_prod_id]['pr'])\n",
        "    print('Quantity:',pur_qn)\n",
        "    print('Date and Time:',tm)\n",
        "    print('Transaction ID:',trans_id)\n",
        "    print('Grand Total:',records[pur_prod_id]['pr']*pur_qn)\n",
        "    sales[i]={'Product ID':pur_prod_id,'Product':records[pur_prod_id]['name'],'Quantity':pur_qn,'Amount':records[pur_prod_id]['pr']*pur_qn,\n",
        "              'Transaction ID':trans_id,'Price':records[pur_prod_id]['pr']}\n",
        "  \n",
        "  #Updating the inventory after adding items\n",
        "  js=json.dumps(records)\n",
        "  fd=open('record.json','w')\n",
        "  fd.write(js)\n",
        "  fd.close()\n",
        "\n",
        "\n"
      ],
      "execution_count": null,
      "outputs": [
        {
          "output_type": "stream",
          "name": "stdout",
          "text": [
            "Purchasing an item from the inventory!\n",
            "What do you want to buy?\n",
            "{'1001': {'name': 'Choco Cake', 'qn': 34, 'pr': 100}, '1002': {'name': 'Milk Cake', 'pr': 800, 'qn': 100}, '1003': {'name': 'Drink', 'pr': 85, 'qn': 100}, '1004': {'name': 'Candy', 'pr': 5, 'qn': 1000}, '1005': {'name': 'Pen', 'pr': 20, 'qn': 100}, '1006': {'name': 'Phone', 'pr': 50000, 'qn': 10}, '1007': {'name': 'Mic', 'pr': 1500, 'qn': 0}, '1008': {'name': 'Case', 'pr': 599, 'qn': 5}, '1009': {'name': 'Keyboard', 'pr': 1999, 'qn': 10}, '1010': {'name': 'Biscuit', 'qn': 50, 'pr': 100}, '1011': {'name': 'Laptop', 'qn': 100, 'pr': 2000}, '1012': {'name': 'Mouse', 'qn': 150, 'pr': 750}, '1013': {'name': 'Pencil', 'qn': 50, 'pr': 10}, '1015': {'name': 'Water Bottle', 'qn': 100, 'pr': 560}, '1014': {'name': 'Tomato Ketchup', 'qn': 50, 'pr': 250}, '1016': {'name': 'Pasta', 'qn': 200, 'pr': 60}, '1017': {'name': 'Cheese', 'qn': 50, 'pr': 40}, '1018': {'name': 'Jam', 'qn': 100, 'pr': 57}, '1019': {'name': 'Butter', 'qn': 50, 'pr': 192}, '1020': {'name': 'Nacho Chips', 'qn': 350, 'pr': 70}, '1021': {'name': 'Potato Chips', 'qn': 50, 'pr': 5}, '1022': {'name': 'Chocolate Syrup', 'qn': 100, 'pr': 50}, '1023': {'name': 'Mayonnaise ', 'qn': 50, 'pr': 30}, '1024': {'name': 'Bread', 'qn': 200, 'pr': 25}, '1025': {'name': 'Marker', 'qn': 200, 'pr': 15}, '1026': {'name': 'Book', 'qn': 250, 'pr': 70}, '1027': {'name': 'Lunch Box', 'qn': 50, 'pr': 25}, '1028': {'name': 'Charger', 'qn': 100, 'pr': 35}, '1029': {'name': 'Head Phone', 'qn': 150, 'pr': 100}, '1030': {'name': 'Paper Bunch', 'qn': 500, 'pr': 75}, '1031': {'name': 'Camera', 'qn': 50, 'pr': 1500}, '1032': {'name': 'Shoes', 'qn': 200, 'pr': 150}, '1033': {'name': 'Sandals', 'qn': 150, 'pr': 250}, '1034': {'name': 'T-Shirt', 'qn': 100, 'pr': 100}, '1035': {'name': 'Jeans', 'qn': 250, 'pr': 2000}}\n",
            "How many items you want to buy?10\n",
            "Enter the product id:1001\n",
            "Enter the quantity:10\n",
            "---Generating Bill---\n",
            "Product: Choco Cake\n",
            "Product ID: 1001\n",
            "Price: 100\n",
            "Quantity: 10\n",
            "Date and Time: Sat Sep  4 07:02:05 2021\n",
            "Transaction ID: 143\n",
            "Grand Total: 1000\n",
            "Enter the product id:1002\n",
            "Enter the quantity:5\n",
            "---Generating Bill---\n",
            "Product: Milk Cake\n",
            "Product ID: 1002\n",
            "Price: 800\n",
            "Quantity: 5\n",
            "Date and Time: Sat Sep  4 07:02:09 2021\n",
            "Transaction ID: 178\n",
            "Grand Total: 4000\n",
            "Enter the product id:1003\n",
            "Enter the quantity:5\n",
            "---Generating Bill---\n",
            "Product: Drink\n",
            "Product ID: 1003\n",
            "Price: 85\n",
            "Quantity: 5\n",
            "Date and Time: Sat Sep  4 07:02:14 2021\n",
            "Transaction ID: 185\n",
            "Grand Total: 425\n",
            "Enter the product id:1004\n",
            "Enter the quantity:10\n",
            "---Generating Bill---\n",
            "Product: Candy\n",
            "Product ID: 1004\n",
            "Price: 5\n",
            "Quantity: 10\n",
            "Date and Time: Sat Sep  4 07:02:37 2021\n",
            "Transaction ID: 156\n",
            "Grand Total: 50\n",
            "Enter the product id:1024\n",
            "Enter the quantity:5\n",
            "---Generating Bill---\n",
            "Product: Bread\n",
            "Product ID: 1024\n",
            "Price: 25\n",
            "Quantity: 5\n",
            "Date and Time: Sat Sep  4 07:02:50 2021\n",
            "Transaction ID: 191\n",
            "Grand Total: 125\n",
            "Enter the product id:1031\n",
            "Enter the quantity:10\n",
            "---Generating Bill---\n",
            "Product: Camera\n",
            "Product ID: 1031\n",
            "Price: 1500\n",
            "Quantity: 10\n",
            "Date and Time: Sat Sep  4 07:03:18 2021\n",
            "Transaction ID: 134\n",
            "Grand Total: 15000\n",
            "Enter the product id:1032\n",
            "Enter the quantity:10\n",
            "---Generating Bill---\n",
            "Product: Shoes\n",
            "Product ID: 1032\n",
            "Price: 150\n",
            "Quantity: 10\n",
            "Date and Time: Sat Sep  4 07:03:23 2021\n",
            "Transaction ID: 154\n",
            "Grand Total: 1500\n",
            "Enter the product id:1033\n",
            "Enter the quantity:15\n",
            "---Generating Bill---\n",
            "Product: Sandals\n",
            "Product ID: 1033\n",
            "Price: 250\n",
            "Quantity: 15\n",
            "Date and Time: Sat Sep  4 07:03:28 2021\n",
            "Transaction ID: 181\n",
            "Grand Total: 3750\n",
            "Enter the product id:1034\n",
            "Enter the quantity:20\n",
            "---Generating Bill---\n",
            "Product: T-Shirt\n",
            "Product ID: 1034\n",
            "Price: 100\n",
            "Quantity: 20\n",
            "Date and Time: Sat Sep  4 07:03:33 2021\n",
            "Transaction ID: 179\n",
            "Grand Total: 2000\n",
            "Enter the product id:1009\n",
            "Enter the quantity:5\n",
            "---Generating Bill---\n",
            "Product: Keyboard\n",
            "Product ID: 1009\n",
            "Price: 1999\n",
            "Quantity: 5\n",
            "Date and Time: Sat Sep  4 07:03:51 2021\n",
            "Transaction ID: 181\n",
            "Grand Total: 9995\n"
          ]
        }
      ]
    },
    {
      "cell_type": "code",
      "metadata": {
        "colab": {
          "base_uri": "https://localhost:8080/"
        },
        "id": "pbMbOQwmPNBo",
        "outputId": "570d699d-4398-4a38-9cd4-a9a23c325230"
      },
      "source": [
        "records"
      ],
      "execution_count": null,
      "outputs": [
        {
          "output_type": "execute_result",
          "data": {
            "text/plain": [
              "{'1001': {'name': 'Choco Cake', 'pr': 100, 'qn': 24},\n",
              " '1002': {'name': 'Milk Cake', 'pr': 800, 'qn': 95},\n",
              " '1003': {'name': 'Drink', 'pr': 85, 'qn': 95},\n",
              " '1004': {'name': 'Candy', 'pr': 5, 'qn': 990},\n",
              " '1005': {'name': 'Pen', 'pr': 20, 'qn': 100},\n",
              " '1006': {'name': 'Phone', 'pr': 50000, 'qn': 10},\n",
              " '1007': {'name': 'Mic', 'pr': 1500, 'qn': 0},\n",
              " '1008': {'name': 'Case', 'pr': 599, 'qn': 5},\n",
              " '1009': {'name': 'Keyboard', 'pr': 1999, 'qn': 5},\n",
              " '1010': {'name': 'Biscuit', 'pr': 100, 'qn': 50},\n",
              " '1011': {'name': 'Laptop', 'pr': 2000, 'qn': 100},\n",
              " '1012': {'name': 'Mouse', 'pr': 750, 'qn': 150},\n",
              " '1013': {'name': 'Pencil', 'pr': 10, 'qn': 50},\n",
              " '1014': {'name': 'Tomato Ketchup', 'pr': 250, 'qn': 50},\n",
              " '1015': {'name': 'Water Bottle', 'pr': 560, 'qn': 100},\n",
              " '1016': {'name': 'Pasta', 'pr': 60, 'qn': 200},\n",
              " '1017': {'name': 'Cheese', 'pr': 40, 'qn': 50},\n",
              " '1018': {'name': 'Jam', 'pr': 57, 'qn': 100},\n",
              " '1019': {'name': 'Butter', 'pr': 192, 'qn': 50},\n",
              " '1020': {'name': 'Nacho Chips', 'pr': 70, 'qn': 350},\n",
              " '1021': {'name': 'Potato Chips', 'pr': 5, 'qn': 50},\n",
              " '1022': {'name': 'Chocolate Syrup', 'pr': 50, 'qn': 100},\n",
              " '1023': {'name': 'Mayonnaise ', 'pr': 30, 'qn': 50},\n",
              " '1024': {'name': 'Bread', 'pr': 25, 'qn': 195},\n",
              " '1025': {'name': 'Marker', 'pr': 15, 'qn': 200},\n",
              " '1026': {'name': 'Book', 'pr': 70, 'qn': 250},\n",
              " '1027': {'name': 'Lunch Box', 'pr': 25, 'qn': 50},\n",
              " '1028': {'name': 'Charger', 'pr': 35, 'qn': 100},\n",
              " '1029': {'name': 'Head Phone', 'pr': 100, 'qn': 150},\n",
              " '1030': {'name': 'Paper Bunch', 'pr': 75, 'qn': 500},\n",
              " '1031': {'name': 'Camera', 'pr': 1500, 'qn': 40},\n",
              " '1032': {'name': 'Shoes', 'pr': 150, 'qn': 190},\n",
              " '1033': {'name': 'Sandals', 'pr': 250, 'qn': 135},\n",
              " '1034': {'name': 'T-Shirt', 'pr': 100, 'qn': 80},\n",
              " '1035': {'name': 'Jeans', 'pr': 2000, 'qn': 250}}"
            ]
          },
          "metadata": {},
          "execution_count": 7
        }
      ]
    },
    {
      "cell_type": "code",
      "metadata": {
        "id": "-oES_LGvflV_",
        "colab": {
          "base_uri": "https://localhost:8080/"
        },
        "outputId": "fede0d9a-2c80-4a3d-d9e3-65390a4fc5bf"
      },
      "source": [
        "sales"
      ],
      "execution_count": null,
      "outputs": [
        {
          "output_type": "execute_result",
          "data": {
            "text/plain": [
              "{1: {'Amount': 1000,\n",
              "  'Price': 100,\n",
              "  'Product': 'Choco Cake',\n",
              "  'Product ID': '1001',\n",
              "  'Quantity': 10,\n",
              "  'Transaction ID': 143},\n",
              " 2: {'Amount': 4000,\n",
              "  'Price': 800,\n",
              "  'Product': 'Milk Cake',\n",
              "  'Product ID': '1002',\n",
              "  'Quantity': 5,\n",
              "  'Transaction ID': 178},\n",
              " 3: {'Amount': 425,\n",
              "  'Price': 85,\n",
              "  'Product': 'Drink',\n",
              "  'Product ID': '1003',\n",
              "  'Quantity': 5,\n",
              "  'Transaction ID': 185},\n",
              " 4: {'Amount': 50,\n",
              "  'Price': 5,\n",
              "  'Product': 'Candy',\n",
              "  'Product ID': '1004',\n",
              "  'Quantity': 10,\n",
              "  'Transaction ID': 156},\n",
              " 5: {'Amount': 125,\n",
              "  'Price': 25,\n",
              "  'Product': 'Bread',\n",
              "  'Product ID': '1024',\n",
              "  'Quantity': 5,\n",
              "  'Transaction ID': 191},\n",
              " 6: {'Amount': 15000,\n",
              "  'Price': 1500,\n",
              "  'Product': 'Camera',\n",
              "  'Product ID': '1031',\n",
              "  'Quantity': 10,\n",
              "  'Transaction ID': 134},\n",
              " 7: {'Amount': 1500,\n",
              "  'Price': 150,\n",
              "  'Product': 'Shoes',\n",
              "  'Product ID': '1032',\n",
              "  'Quantity': 10,\n",
              "  'Transaction ID': 154},\n",
              " 8: {'Amount': 3750,\n",
              "  'Price': 250,\n",
              "  'Product': 'Sandals',\n",
              "  'Product ID': '1033',\n",
              "  'Quantity': 15,\n",
              "  'Transaction ID': 181},\n",
              " 9: {'Amount': 2000,\n",
              "  'Price': 100,\n",
              "  'Product': 'T-Shirt',\n",
              "  'Product ID': '1034',\n",
              "  'Quantity': 20,\n",
              "  'Transaction ID': 179},\n",
              " 10: {'Amount': 9995,\n",
              "  'Price': 1999,\n",
              "  'Product': 'Keyboard',\n",
              "  'Product ID': '1009',\n",
              "  'Quantity': 5,\n",
              "  'Transaction ID': 181}}"
            ]
          },
          "metadata": {},
          "execution_count": 8
        }
      ]
    },
    {
      "cell_type": "code",
      "metadata": {
        "id": "FRMlMxs6hGb0"
      },
      "source": [
        "js=json.dumps(sales)\n",
        "fd=open('sales.json','w')\n",
        "fd.write(js)\n",
        "fd.close()"
      ],
      "execution_count": null,
      "outputs": []
    },
    {
      "cell_type": "code",
      "metadata": {
        "id": "MO1_bGnBnyri"
      },
      "source": [
        "fd=open('sales.json','r')\n",
        "r=fd.read()\n",
        "fd.close()\n",
        "sales=json.loads(r)"
      ],
      "execution_count": null,
      "outputs": []
    },
    {
      "cell_type": "code",
      "metadata": {
        "id": "IXpR2Z5vn_Tm",
        "colab": {
          "base_uri": "https://localhost:8080/"
        },
        "outputId": "a1d3ffb1-76a7-4f94-bb6a-3c59a0385195"
      },
      "source": [
        "sales"
      ],
      "execution_count": null,
      "outputs": [
        {
          "output_type": "execute_result",
          "data": {
            "text/plain": [
              "{'1': {'Amount': 1000,\n",
              "  'Price': 100,\n",
              "  'Product': 'Choco Cake',\n",
              "  'Product ID': '1001',\n",
              "  'Quantity': 10,\n",
              "  'Transaction ID': 143},\n",
              " '10': {'Amount': 9995,\n",
              "  'Price': 1999,\n",
              "  'Product': 'Keyboard',\n",
              "  'Product ID': '1009',\n",
              "  'Quantity': 5,\n",
              "  'Transaction ID': 181},\n",
              " '2': {'Amount': 4000,\n",
              "  'Price': 800,\n",
              "  'Product': 'Milk Cake',\n",
              "  'Product ID': '1002',\n",
              "  'Quantity': 5,\n",
              "  'Transaction ID': 178},\n",
              " '3': {'Amount': 425,\n",
              "  'Price': 85,\n",
              "  'Product': 'Drink',\n",
              "  'Product ID': '1003',\n",
              "  'Quantity': 5,\n",
              "  'Transaction ID': 185},\n",
              " '4': {'Amount': 50,\n",
              "  'Price': 5,\n",
              "  'Product': 'Candy',\n",
              "  'Product ID': '1004',\n",
              "  'Quantity': 10,\n",
              "  'Transaction ID': 156},\n",
              " '5': {'Amount': 125,\n",
              "  'Price': 25,\n",
              "  'Product': 'Bread',\n",
              "  'Product ID': '1024',\n",
              "  'Quantity': 5,\n",
              "  'Transaction ID': 191},\n",
              " '6': {'Amount': 15000,\n",
              "  'Price': 1500,\n",
              "  'Product': 'Camera',\n",
              "  'Product ID': '1031',\n",
              "  'Quantity': 10,\n",
              "  'Transaction ID': 134},\n",
              " '7': {'Amount': 1500,\n",
              "  'Price': 150,\n",
              "  'Product': 'Shoes',\n",
              "  'Product ID': '1032',\n",
              "  'Quantity': 10,\n",
              "  'Transaction ID': 154},\n",
              " '8': {'Amount': 3750,\n",
              "  'Price': 250,\n",
              "  'Product': 'Sandals',\n",
              "  'Product ID': '1033',\n",
              "  'Quantity': 15,\n",
              "  'Transaction ID': 181},\n",
              " '9': {'Amount': 2000,\n",
              "  'Price': 100,\n",
              "  'Product': 'T-Shirt',\n",
              "  'Product ID': '1034',\n",
              "  'Quantity': 20,\n",
              "  'Transaction ID': 179}}"
            ]
          },
          "metadata": {},
          "execution_count": 11
        }
      ]
    },
    {
      "cell_type": "code",
      "metadata": {
        "id": "mZVVHW1eoAap"
      },
      "source": [
        ""
      ],
      "execution_count": null,
      "outputs": []
    }
  ]
}